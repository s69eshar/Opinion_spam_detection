{
 "cells": [
  {
   "cell_type": "code",
   "execution_count": 1,
   "metadata": {
    "execution": {
     "iopub.execute_input": "2022-01-31T04:59:32.253606Z",
     "iopub.status.busy": "2022-01-31T04:59:32.253322Z",
     "iopub.status.idle": "2022-01-31T05:01:16.883069Z",
     "shell.execute_reply": "2022-01-31T05:01:16.882093Z",
     "shell.execute_reply.started": "2022-01-31T04:59:32.253558Z"
    },
    "id": "jvlNPFRRIZKG",
    "outputId": "00c5f613-9962-458a-861c-69487abb4e18"
   },
   "outputs": [
    {
     "name": "stdout",
     "output_type": "stream",
     "text": [
      "\u001b[33mWARNING: You are using pip version 20.2.4; however, version 22.0.3 is available.\n",
      "You should consider upgrading via the '/usr/bin/python3 -m pip install --upgrade pip' command.\u001b[0m\n",
      "Note: you may need to restart the kernel to use updated packages.\n"
     ]
    }
   ],
   "source": [
    "%pip install -q tf-models-official==2.7.1 tensorflow-text==2.7.3\n"
   ]
  },
  {
   "cell_type": "markdown",
   "metadata": {},
   "source": [
    "## Importing modules\n",
    " - `numpy` is imported due to setting random seed for pandas & sklearn so as to make it easier to reproduce results\n",
    " - `pandas` is imported for reading/loading are dataset which is in a tabular form (comma seperated value file format)\n",
    " - `matplotlib` is imported for creating graphs to visualize the training of our model. It's easier to see if it overfits or underfits\n",
    " - We are using `sklearn` for dividing our dataset into 3 parts, ie; training, validation and test sets\n",
    " - We are importing modules for `tensorflow` for our Deep Learning model\n",
    "   - main tensorflow module for making, compiling and training the model.\n",
    "   - `tensorflow-hub` for Bert preprocessor and text encoder\n",
    "   - `tensorflow-text` as a workaround for a OP call error in `tensorflow-hub` possibly due to scoping issue or not being listed as a dependency\n",
    "   - `tf-models-official` or official (as imported here) is used to get the AdamW optimizer for stochastic gradient descent based training of out model\n"
   ]
  },
  {
   "cell_type": "code",
   "execution_count": 2,
   "metadata": {
    "execution": {
     "iopub.execute_input": "2022-01-31T05:01:16.887107Z",
     "iopub.status.busy": "2022-01-31T05:01:16.886878Z"
    },
    "id": "Zg6dNUgtcpCJ"
   },
   "outputs": [],
   "source": [
    "import numpy as np\n",
    "import pandas as pd\n",
    "import matplotlib.pyplot as plt\n",
    "\n",
    "from sklearn.model_selection import train_test_split\n",
    "\n",
    "import tensorflow as tf\n",
    "import tensorflow_text as tf_text\n",
    "import tensorflow_hub as hub # for Bert Preprocessor and encoder\n",
    "from official.nlp import optimization  # for AdamW optimizer\n",
    "\n",
    "tf.get_logger().setLevel('ERROR')\n",
    "%matplotlib inline"
   ]
  },
  {
   "cell_type": "markdown",
   "metadata": {},
   "source": [
    "### Random Seed\n",
    "Setting a seed manually here to keep things reproducible and consistent"
   ]
  },
  {
   "cell_type": "code",
   "execution_count": 3,
   "metadata": {
    "id": "LoEn5numX5To"
   },
   "outputs": [],
   "source": [
    "seed = 13\n",
    "tf.random.set_seed(seed)\n",
    "np.random.seed(seed)\n"
   ]
  },
  {
   "cell_type": "markdown",
   "metadata": {},
   "source": [
    "### Dataset handling\n",
    "Read the file and load it as a `pandas.DataFrame` for quick processing"
   ]
  },
  {
   "cell_type": "code",
   "execution_count": 4,
   "metadata": {
    "execution": {
     "iopub.execute_input": "2022-01-31T04:55:02.213804Z",
     "iopub.status.busy": "2022-01-31T04:55:02.213326Z",
     "iopub.status.idle": "2022-01-31T04:55:02.290566Z",
     "shell.execute_reply": "2022-01-31T04:55:02.289938Z",
     "shell.execute_reply.started": "2022-01-31T04:55:02.213768Z"
    },
    "id": "4HKGSOd2c3mU",
    "outputId": "eae8b8fb-c602-4fbc-f42a-0186756a0317"
   },
   "outputs": [
    {
     "data": {
      "text/html": [
       "<div>\n",
       "<style scoped>\n",
       "    .dataframe tbody tr th:only-of-type {\n",
       "        vertical-align: middle;\n",
       "    }\n",
       "\n",
       "    .dataframe tbody tr th {\n",
       "        vertical-align: top;\n",
       "    }\n",
       "\n",
       "    .dataframe thead th {\n",
       "        text-align: right;\n",
       "    }\n",
       "</style>\n",
       "<table border=\"1\" class=\"dataframe\">\n",
       "  <thead>\n",
       "    <tr style=\"text-align: right;\">\n",
       "      <th></th>\n",
       "      <th>deceptive</th>\n",
       "      <th>hotel</th>\n",
       "      <th>polarity</th>\n",
       "      <th>source</th>\n",
       "      <th>text</th>\n",
       "    </tr>\n",
       "  </thead>\n",
       "  <tbody>\n",
       "    <tr>\n",
       "      <th>0</th>\n",
       "      <td>truthful</td>\n",
       "      <td>conrad</td>\n",
       "      <td>positive</td>\n",
       "      <td>TripAdvisor</td>\n",
       "      <td>We stayed for a one night getaway with family ...</td>\n",
       "    </tr>\n",
       "    <tr>\n",
       "      <th>1</th>\n",
       "      <td>truthful</td>\n",
       "      <td>hyatt</td>\n",
       "      <td>positive</td>\n",
       "      <td>TripAdvisor</td>\n",
       "      <td>Triple A rate with upgrade to view room was le...</td>\n",
       "    </tr>\n",
       "    <tr>\n",
       "      <th>2</th>\n",
       "      <td>truthful</td>\n",
       "      <td>hyatt</td>\n",
       "      <td>positive</td>\n",
       "      <td>TripAdvisor</td>\n",
       "      <td>This comes a little late as I'm finally catchi...</td>\n",
       "    </tr>\n",
       "    <tr>\n",
       "      <th>3</th>\n",
       "      <td>truthful</td>\n",
       "      <td>omni</td>\n",
       "      <td>positive</td>\n",
       "      <td>TripAdvisor</td>\n",
       "      <td>The Omni Chicago really delivers on all fronts...</td>\n",
       "    </tr>\n",
       "    <tr>\n",
       "      <th>4</th>\n",
       "      <td>truthful</td>\n",
       "      <td>hyatt</td>\n",
       "      <td>positive</td>\n",
       "      <td>TripAdvisor</td>\n",
       "      <td>I asked for a high floor away from the elevato...</td>\n",
       "    </tr>\n",
       "  </tbody>\n",
       "</table>\n",
       "</div>"
      ],
      "text/plain": [
       "  deceptive   hotel  polarity       source  \\\n",
       "0  truthful  conrad  positive  TripAdvisor   \n",
       "1  truthful   hyatt  positive  TripAdvisor   \n",
       "2  truthful   hyatt  positive  TripAdvisor   \n",
       "3  truthful    omni  positive  TripAdvisor   \n",
       "4  truthful   hyatt  positive  TripAdvisor   \n",
       "\n",
       "                                                text  \n",
       "0  We stayed for a one night getaway with family ...  \n",
       "1  Triple A rate with upgrade to view room was le...  \n",
       "2  This comes a little late as I'm finally catchi...  \n",
       "3  The Omni Chicago really delivers on all fronts...  \n",
       "4  I asked for a high floor away from the elevato...  "
      ]
     },
     "execution_count": 4,
     "metadata": {},
     "output_type": "execute_result"
    }
   ],
   "source": [
    "# load the dataset as a DataFrame\n",
    "df = pd.read_csv(\"./deceptive-opinion.csv\")\n",
    "\n",
    "# Display 5 rows of tabular data, first 5 indices by default\n",
    "df.head()\n"
   ]
  },
  {
   "cell_type": "markdown",
   "metadata": {},
   "source": [
    "Describe gives some basic overview of the dataset by category/column/attribute, such as \n",
    " - `count`/size (total number of rows by each category, gives a heads up incase there's missing attribute data), \n",
    " - distinction (number of `unique` values for each attribute),\n",
    " - `freq`uency of the top most (or most frequent value in an attribute)"
   ]
  },
  {
   "cell_type": "code",
   "execution_count": 5,
   "metadata": {
    "execution": {
     "iopub.execute_input": "2022-01-31T04:55:02.292377Z",
     "iopub.status.busy": "2022-01-31T04:55:02.291905Z",
     "iopub.status.idle": "2022-01-31T04:55:02.320622Z",
     "shell.execute_reply": "2022-01-31T04:55:02.319918Z",
     "shell.execute_reply.started": "2022-01-31T04:55:02.29234Z"
    },
    "id": "0WrDT4bIzhc2",
    "outputId": "7b1a35b3-1d8c-4d76-bfd1-8e523bb1b163"
   },
   "outputs": [
    {
     "data": {
      "text/html": [
       "<div>\n",
       "<style scoped>\n",
       "    .dataframe tbody tr th:only-of-type {\n",
       "        vertical-align: middle;\n",
       "    }\n",
       "\n",
       "    .dataframe tbody tr th {\n",
       "        vertical-align: top;\n",
       "    }\n",
       "\n",
       "    .dataframe thead th {\n",
       "        text-align: right;\n",
       "    }\n",
       "</style>\n",
       "<table border=\"1\" class=\"dataframe\">\n",
       "  <thead>\n",
       "    <tr style=\"text-align: right;\">\n",
       "      <th></th>\n",
       "      <th>deceptive</th>\n",
       "      <th>hotel</th>\n",
       "      <th>polarity</th>\n",
       "      <th>source</th>\n",
       "      <th>text</th>\n",
       "    </tr>\n",
       "  </thead>\n",
       "  <tbody>\n",
       "    <tr>\n",
       "      <th>count</th>\n",
       "      <td>1600</td>\n",
       "      <td>1600</td>\n",
       "      <td>1600</td>\n",
       "      <td>1600</td>\n",
       "      <td>1600</td>\n",
       "    </tr>\n",
       "    <tr>\n",
       "      <th>unique</th>\n",
       "      <td>2</td>\n",
       "      <td>20</td>\n",
       "      <td>2</td>\n",
       "      <td>3</td>\n",
       "      <td>1596</td>\n",
       "    </tr>\n",
       "    <tr>\n",
       "      <th>top</th>\n",
       "      <td>truthful</td>\n",
       "      <td>conrad</td>\n",
       "      <td>positive</td>\n",
       "      <td>MTurk</td>\n",
       "      <td>The Omni was chosen for it's location whichwor...</td>\n",
       "    </tr>\n",
       "    <tr>\n",
       "      <th>freq</th>\n",
       "      <td>800</td>\n",
       "      <td>80</td>\n",
       "      <td>800</td>\n",
       "      <td>800</td>\n",
       "      <td>2</td>\n",
       "    </tr>\n",
       "  </tbody>\n",
       "</table>\n",
       "</div>"
      ],
      "text/plain": [
       "       deceptive   hotel  polarity source  \\\n",
       "count       1600    1600      1600   1600   \n",
       "unique         2      20         2      3   \n",
       "top     truthful  conrad  positive  MTurk   \n",
       "freq         800      80       800    800   \n",
       "\n",
       "                                                     text  \n",
       "count                                                1600  \n",
       "unique                                               1596  \n",
       "top     The Omni was chosen for it's location whichwor...  \n",
       "freq                                                    2  "
      ]
     },
     "execution_count": 5,
     "metadata": {},
     "output_type": "execute_result"
    }
   ],
   "source": [
    "df.describe()\n"
   ]
  },
  {
   "cell_type": "markdown",
   "metadata": {},
   "source": [
    "Just to confirm there are no null values, doesn't work with text/object attribute wherein, it could be `\"null\"`/`{}`/`[]` instead of `nil`"
   ]
  },
  {
   "cell_type": "code",
   "execution_count": 6,
   "metadata": {
    "execution": {
     "iopub.execute_input": "2022-01-31T04:55:02.322433Z",
     "iopub.status.busy": "2022-01-31T04:55:02.321782Z",
     "iopub.status.idle": "2022-01-31T04:55:02.33231Z",
     "shell.execute_reply": "2022-01-31T04:55:02.331514Z",
     "shell.execute_reply.started": "2022-01-31T04:55:02.322395Z"
    },
    "id": "93UV69eDpKxH",
    "outputId": "88c7371b-4f07-4d72-f57d-4897ea9c14f1"
   },
   "outputs": [
    {
     "data": {
      "text/plain": [
       "deceptive    0\n",
       "hotel        0\n",
       "polarity     0\n",
       "source       0\n",
       "text         0\n",
       "dtype: int64"
      ]
     },
     "execution_count": 6,
     "metadata": {},
     "output_type": "execute_result"
    }
   ],
   "source": [
    "df.isnull().sum()\n"
   ]
  },
  {
   "cell_type": "markdown",
   "metadata": {},
   "source": [
    "- We are dropping `hotel` and review `source` attributes so that our model learns to classify purely based on text and doesn't become brittle wherein it breaks if it encounters a new hotel name or source for the review fed to it. \n",
    "\n",
    "- By that we mean it doesn't end up overfitting on our dataset and be completely impractical for use.\n",
    "\n",
    "- `polarity` is removed due it being data that isn't readily available in the text but rather an add-on value that has been provided in the dataset. We could make another classifier for polarity and then graft it's output with original text to use in our model but that's an unnecesarry complication."
   ]
  },
  {
   "cell_type": "code",
   "execution_count": 7,
   "metadata": {
    "execution": {
     "iopub.execute_input": "2022-01-31T04:55:02.334031Z",
     "iopub.status.busy": "2022-01-31T04:55:02.333635Z",
     "iopub.status.idle": "2022-01-31T04:55:02.34647Z",
     "shell.execute_reply": "2022-01-31T04:55:02.345792Z",
     "shell.execute_reply.started": "2022-01-31T04:55:02.333996Z"
    },
    "id": "2JDijQMCzUC9",
    "outputId": "96a37f71-e4f9-43e7-c781-a2eb5c3c60f2"
   },
   "outputs": [
    {
     "data": {
      "text/html": [
       "<div>\n",
       "<style scoped>\n",
       "    .dataframe tbody tr th:only-of-type {\n",
       "        vertical-align: middle;\n",
       "    }\n",
       "\n",
       "    .dataframe tbody tr th {\n",
       "        vertical-align: top;\n",
       "    }\n",
       "\n",
       "    .dataframe thead th {\n",
       "        text-align: right;\n",
       "    }\n",
       "</style>\n",
       "<table border=\"1\" class=\"dataframe\">\n",
       "  <thead>\n",
       "    <tr style=\"text-align: right;\">\n",
       "      <th></th>\n",
       "      <th>deceptive</th>\n",
       "      <th>text</th>\n",
       "    </tr>\n",
       "  </thead>\n",
       "  <tbody>\n",
       "    <tr>\n",
       "      <th>0</th>\n",
       "      <td>truthful</td>\n",
       "      <td>We stayed for a one night getaway with family ...</td>\n",
       "    </tr>\n",
       "    <tr>\n",
       "      <th>1</th>\n",
       "      <td>truthful</td>\n",
       "      <td>Triple A rate with upgrade to view room was le...</td>\n",
       "    </tr>\n",
       "    <tr>\n",
       "      <th>2</th>\n",
       "      <td>truthful</td>\n",
       "      <td>This comes a little late as I'm finally catchi...</td>\n",
       "    </tr>\n",
       "    <tr>\n",
       "      <th>3</th>\n",
       "      <td>truthful</td>\n",
       "      <td>The Omni Chicago really delivers on all fronts...</td>\n",
       "    </tr>\n",
       "    <tr>\n",
       "      <th>4</th>\n",
       "      <td>truthful</td>\n",
       "      <td>I asked for a high floor away from the elevato...</td>\n",
       "    </tr>\n",
       "  </tbody>\n",
       "</table>\n",
       "</div>"
      ],
      "text/plain": [
       "  deceptive                                               text\n",
       "0  truthful  We stayed for a one night getaway with family ...\n",
       "1  truthful  Triple A rate with upgrade to view room was le...\n",
       "2  truthful  This comes a little late as I'm finally catchi...\n",
       "3  truthful  The Omni Chicago really delivers on all fronts...\n",
       "4  truthful  I asked for a high floor away from the elevato..."
      ]
     },
     "execution_count": 7,
     "metadata": {},
     "output_type": "execute_result"
    }
   ],
   "source": [
    "new_df = df.drop(['hotel'], axis=1)\n",
    "new_df = new_df.drop(['source'], axis=1)\n",
    "new_df = new_df.drop(['polarity'], axis=1)\n",
    "new_df.head()\n"
   ]
  },
  {
   "cell_type": "markdown",
   "metadata": {},
   "source": [
    "We are making the text `lower`case since the classification is going to be case insensitive for ease, since people may capitalise things for various reasons other than grammatical as well as do it by mistake as is common on most user content on the internet.\n",
    "\n",
    "We are also removing `URL`s from the reviews (if found) since they aren't relevant and could confuse the model as a feature for identifying as it as spam."
   ]
  },
  {
   "cell_type": "code",
   "execution_count": 8,
   "metadata": {
    "execution": {
     "iopub.execute_input": "2022-01-31T04:55:02.348361Z",
     "iopub.status.busy": "2022-01-31T04:55:02.347593Z",
     "iopub.status.idle": "2022-01-31T04:55:02.355535Z",
     "shell.execute_reply": "2022-01-31T04:55:02.354886Z",
     "shell.execute_reply.started": "2022-01-31T04:55:02.348312Z"
    },
    "id": "s_6Yw8sf9Icx"
   },
   "outputs": [],
   "source": [
    "def text_cleaning(text):\n",
    "    import re\n",
    "    import string\n",
    "    '''\n",
    "    Make text lowercase, remove text in square brackets,remove links,remove special characters\n",
    "    and remove words containing numbers.\n",
    "    '''\n",
    "    text = text.lower()\n",
    "    text = re.sub('https?://\\S+|www\\.\\S+', '', text)  # remove URLs\n",
    "\n",
    "    return text\n"
   ]
  },
  {
   "cell_type": "code",
   "execution_count": 9,
   "metadata": {
    "execution": {
     "iopub.execute_input": "2022-01-31T04:55:02.357475Z",
     "iopub.status.busy": "2022-01-31T04:55:02.356665Z",
     "iopub.status.idle": "2022-01-31T04:55:02.400716Z",
     "shell.execute_reply": "2022-01-31T04:55:02.400104Z",
     "shell.execute_reply.started": "2022-01-31T04:55:02.357434Z"
    },
    "id": "PHIqEAVzDadl"
   },
   "outputs": [],
   "source": [
    "new_df['text'] = new_df['text'].apply(text_cleaning)\n"
   ]
  },
  {
   "cell_type": "markdown",
   "metadata": {},
   "source": [
    "Here we are mapping the `class`/category for truthful & deceptive to numeric form so that it's easier to measure loss, accuracy & confidence of our model."
   ]
  },
  {
   "cell_type": "code",
   "execution_count": 10,
   "metadata": {
    "execution": {
     "iopub.execute_input": "2022-01-31T04:55:02.403788Z",
     "iopub.status.busy": "2022-01-31T04:55:02.403588Z",
     "iopub.status.idle": "2022-01-31T04:55:02.409285Z",
     "shell.execute_reply": "2022-01-31T04:55:02.408566Z",
     "shell.execute_reply.started": "2022-01-31T04:55:02.403765Z"
    },
    "id": "MK3nT84UHplA"
   },
   "outputs": [],
   "source": [
    "def className(cName):\n",
    "    if cName == 'truthful':\n",
    "        return 0\n",
    "    else:\n",
    "        return 1\n"
   ]
  },
  {
   "cell_type": "code",
   "execution_count": 11,
   "metadata": {
    "execution": {
     "iopub.execute_input": "2022-01-31T04:55:02.411291Z",
     "iopub.status.busy": "2022-01-31T04:55:02.410774Z",
     "iopub.status.idle": "2022-01-31T04:55:02.418333Z",
     "shell.execute_reply": "2022-01-31T04:55:02.417559Z",
     "shell.execute_reply.started": "2022-01-31T04:55:02.411256Z"
    },
    "id": "LlMkiTNRVULl"
   },
   "outputs": [],
   "source": [
    "new_df['deceptive'] = new_df['deceptive'].apply(className)\n"
   ]
  },
  {
   "cell_type": "markdown",
   "metadata": {},
   "source": [
    "Taking advantage of jupyter notebook's output truncating feature we are displaying first 5 and last 5 rows/tuples of data after our processing of the dataset. This was the last of dataset preprocessing."
   ]
  },
  {
   "cell_type": "code",
   "execution_count": 12,
   "metadata": {
    "execution": {
     "iopub.execute_input": "2022-01-31T04:55:02.421173Z",
     "iopub.status.busy": "2022-01-31T04:55:02.419212Z",
     "iopub.status.idle": "2022-01-31T04:55:02.435473Z",
     "shell.execute_reply": "2022-01-31T04:55:02.434788Z",
     "shell.execute_reply.started": "2022-01-31T04:55:02.419382Z"
    },
    "id": "Sz0-WAOJJ2ub",
    "outputId": "04f1619c-41cd-4a34-e494-a06b9e913426"
   },
   "outputs": [
    {
     "data": {
      "text/html": [
       "<div>\n",
       "<style scoped>\n",
       "    .dataframe tbody tr th:only-of-type {\n",
       "        vertical-align: middle;\n",
       "    }\n",
       "\n",
       "    .dataframe tbody tr th {\n",
       "        vertical-align: top;\n",
       "    }\n",
       "\n",
       "    .dataframe thead th {\n",
       "        text-align: right;\n",
       "    }\n",
       "</style>\n",
       "<table border=\"1\" class=\"dataframe\">\n",
       "  <thead>\n",
       "    <tr style=\"text-align: right;\">\n",
       "      <th></th>\n",
       "      <th>deceptive</th>\n",
       "      <th>text</th>\n",
       "    </tr>\n",
       "  </thead>\n",
       "  <tbody>\n",
       "    <tr>\n",
       "      <th>0</th>\n",
       "      <td>0</td>\n",
       "      <td>we stayed for a one night getaway with family ...</td>\n",
       "    </tr>\n",
       "    <tr>\n",
       "      <th>1</th>\n",
       "      <td>0</td>\n",
       "      <td>triple a rate with upgrade to view room was le...</td>\n",
       "    </tr>\n",
       "    <tr>\n",
       "      <th>2</th>\n",
       "      <td>0</td>\n",
       "      <td>this comes a little late as i'm finally catchi...</td>\n",
       "    </tr>\n",
       "    <tr>\n",
       "      <th>3</th>\n",
       "      <td>0</td>\n",
       "      <td>the omni chicago really delivers on all fronts...</td>\n",
       "    </tr>\n",
       "    <tr>\n",
       "      <th>4</th>\n",
       "      <td>0</td>\n",
       "      <td>i asked for a high floor away from the elevato...</td>\n",
       "    </tr>\n",
       "    <tr>\n",
       "      <th>...</th>\n",
       "      <td>...</td>\n",
       "      <td>...</td>\n",
       "    </tr>\n",
       "    <tr>\n",
       "      <th>1595</th>\n",
       "      <td>1</td>\n",
       "      <td>problems started when i booked the intercontin...</td>\n",
       "    </tr>\n",
       "    <tr>\n",
       "      <th>1596</th>\n",
       "      <td>1</td>\n",
       "      <td>the amalfi hotel has a beautiful website and i...</td>\n",
       "    </tr>\n",
       "    <tr>\n",
       "      <th>1597</th>\n",
       "      <td>1</td>\n",
       "      <td>the intercontinental chicago magnificent mile ...</td>\n",
       "    </tr>\n",
       "    <tr>\n",
       "      <th>1598</th>\n",
       "      <td>1</td>\n",
       "      <td>the palmer house hilton, while it looks good i...</td>\n",
       "    </tr>\n",
       "    <tr>\n",
       "      <th>1599</th>\n",
       "      <td>1</td>\n",
       "      <td>as a former chicagoan, i'm appalled at the ama...</td>\n",
       "    </tr>\n",
       "  </tbody>\n",
       "</table>\n",
       "<p>1600 rows × 2 columns</p>\n",
       "</div>"
      ],
      "text/plain": [
       "      deceptive                                               text\n",
       "0             0  we stayed for a one night getaway with family ...\n",
       "1             0  triple a rate with upgrade to view room was le...\n",
       "2             0  this comes a little late as i'm finally catchi...\n",
       "3             0  the omni chicago really delivers on all fronts...\n",
       "4             0  i asked for a high floor away from the elevato...\n",
       "...         ...                                                ...\n",
       "1595          1  problems started when i booked the intercontin...\n",
       "1596          1  the amalfi hotel has a beautiful website and i...\n",
       "1597          1  the intercontinental chicago magnificent mile ...\n",
       "1598          1  the palmer house hilton, while it looks good i...\n",
       "1599          1  as a former chicagoan, i'm appalled at the ama...\n",
       "\n",
       "[1600 rows x 2 columns]"
      ]
     },
     "execution_count": 12,
     "metadata": {},
     "output_type": "execute_result"
    }
   ],
   "source": [
    "new_df\n"
   ]
  },
  {
   "cell_type": "markdown",
   "metadata": {},
   "source": [
    "- we are converting our tabular dataset from `pandas.DataFrame` to `numpy.array` for feeding our model & division by test, validation, training\n",
    "- we also seperate `classname` and `text` data as `y` and `x` `numpy.array` variables respectively from the tabular form it originally was"
   ]
  },
  {
   "cell_type": "code",
   "execution_count": 13,
   "metadata": {
    "execution": {
     "iopub.execute_input": "2022-01-31T04:55:02.438046Z",
     "iopub.status.busy": "2022-01-31T04:55:02.437484Z",
     "iopub.status.idle": "2022-01-31T04:55:02.44362Z",
     "shell.execute_reply": "2022-01-31T04:55:02.442944Z",
     "shell.execute_reply.started": "2022-01-31T04:55:02.437979Z"
    },
    "id": "4Rolvwnz_vXl"
   },
   "outputs": [],
   "source": [
    "x = new_df.copy(deep=True)\n",
    "y = x.pop('deceptive').to_numpy()\n",
    "x = x['text'].to_numpy()\n"
   ]
  },
  {
   "cell_type": "code",
   "execution_count": 14,
   "metadata": {
    "execution": {
     "iopub.execute_input": "2022-01-31T04:55:02.445267Z",
     "iopub.status.busy": "2022-01-31T04:55:02.444841Z",
     "iopub.status.idle": "2022-01-31T04:55:02.455625Z",
     "shell.execute_reply": "2022-01-31T04:55:02.454898Z",
     "shell.execute_reply.started": "2022-01-31T04:55:02.445177Z"
    },
    "id": "YLlIAluK_3JL",
    "outputId": "823de97b-7203-42da-94c3-d645b5fe9152"
   },
   "outputs": [
    {
     "data": {
      "text/plain": [
       "array(['we stayed for a one night getaway with family on a thursday. triple aaa rate of 173 was a steal. 7th floor room complete with 44in plasma tv bose stereo, voss and evian water, and gorgeous bathroom(no tub but was fine for us) concierge was very helpful. you cannot beat this location... only flaw was breakfast was pricey and service was very very slow(2hours for four kids and four adults on a friday morning) even though there were only two other tables in the restaurant. food was very good so it was worth the wait. i would return in a heartbeat. a gem in chicago... \\n',\n",
       "       'triple a rate with upgrade to view room was less than $200 which also included breakfast vouchers. had a great view of river, lake, wrigley bldg. & tribune bldg. most major restaurants, shopping, sightseeing attractions within walking distance. large room with a very comfortable bed. \\n',\n",
       "       \"this comes a little late as i'm finally catching up on my reviews from the past several months:) a dear friend and i stayed at the hyatt regency in late october 2007 for one night while visiting a friend and her husband from out of town. this hotel is perfect, imo. easy check in and check out. lovely, clean, comfortable rooms with great views of the city. i know this area pretty well and it's very convenient to many downtown chicago attractions. we had dinner and went clubing with our friends around division st.. we had no problems getting cabs back and forth to the hyatt and there's even public transportation right near by but we didn't bother since we only needed cabs from and to the hotel. parking, as is usual for chicago, was expensive but we were able to get our car out quickly (however, we left on a sunday morning, not exactly a high traffic time although it was a bears homegame day, so a bit busier than usual i would think). no problems at all and the best part is that we got a rate of $100 through hotwire, a downright steal for this area of chicago and the quality of the hotel. \\n\",\n",
       "       ...,\n",
       "       'the intercontinental chicago magnificent mile the outside of the hotel itself is as the name says is pretty magnificent despite being set in what has to be the filthiest section in the city. for the cost of the rooms starting at 179.00 a night, you would think they would have a competent parking attendant. i was delayed from a very important client due to a latency issue with my reserved room, and if that was not enough. to top it off the room service had the nerve to bring up room temperature pasta and a bottle of champagne that had the seal previously broken free of the cork. needless to say this will be the last time this hotel ever is to grace so much as another dollar bill from my account. i would highly recommend another hotel with better accommodations.\\n',\n",
       "       \"the palmer house hilton, while it looks good in pictures, and the outside, is actually a disaster of a hotel. when i went through, the lobby was dirty, my room hadn't been cleaned, and smelled thoroughly of smoke. when i requested more pillows, the lady on the phone scoffed at me and said she'd send them up. it took over an hour for 2 pillows. this hotel is a good example that what you pay for isn't always what you get. i will not be returning.\\n\",\n",
       "       \"as a former chicagoan, i'm appalled at the amalfi hotel chicago. first of all, i was expecting luxury and hospitality, neither of which i received. there's an experience designer who is supposed to be like a 'personal concierge,' but my experience with my ed was terrible. i felt like he was trying to pressure me into staying more days than i wanted to. not only that, but i couldn't understand what he was saying most of the time because he was talking so fast. when i finally got to my room, i was disappointed with the quality of the furniture and the room's cleanliness. i had to ask for a maid to come and give me clean towels because some of the towels in the bathroom were damp. on top of that, the bed was messily done; i could have done a better job on my own bed at home. i was angry at this point, because i was paying a lot of money for every night i was staying at amalfi, and i didn't expect to be greeted with wet towels. i needed to use the wi-fi to download some important documents, and the internet was surprisingly slow. even a very basic hotel or motel could have offered better, maybe even faster internet access. when i finally checked out of the amalfi, i made sure that my supposed personal concierge knew all of the problems i'd had with my room and the hotel. i was glad to see the amalfi getting smaller in the mirror as i drove away!\\n\"],\n",
       "      dtype=object)"
      ]
     },
     "execution_count": 14,
     "metadata": {},
     "output_type": "execute_result"
    }
   ],
   "source": [
    "x # text data array\n"
   ]
  },
  {
   "cell_type": "code",
   "execution_count": 15,
   "metadata": {
    "execution": {
     "iopub.execute_input": "2022-01-31T04:55:02.457793Z",
     "iopub.status.busy": "2022-01-31T04:55:02.457256Z",
     "iopub.status.idle": "2022-01-31T04:55:02.466368Z",
     "shell.execute_reply": "2022-01-31T04:55:02.465681Z",
     "shell.execute_reply.started": "2022-01-31T04:55:02.457729Z"
    },
    "id": "t_GjL2-lVJGA",
    "outputId": "de192bb7-e522-42ef-f1c9-c43723ff2a04"
   },
   "outputs": [
    {
     "data": {
      "text/plain": [
       "array([0, 0, 0, ..., 1, 1, 1])"
      ]
     },
     "execution_count": 15,
     "metadata": {},
     "output_type": "execute_result"
    }
   ],
   "source": [
    "y # class array: classes for each text, both are indexed exactly so x[0] text corresponds with y[0]\n"
   ]
  },
  {
   "cell_type": "markdown",
   "metadata": {},
   "source": [
    " ## Train, Test, Validation splits\n",
    "  - Test set size: 160\n",
    "  - Validation set size: 144\n",
    "  - Train set size: 1296"
   ]
  },
  {
   "cell_type": "code",
   "execution_count": 16,
   "metadata": {
    "execution": {
     "iopub.execute_input": "2022-01-31T04:55:02.468384Z",
     "iopub.status.busy": "2022-01-31T04:55:02.467803Z",
     "iopub.status.idle": "2022-01-31T04:55:02.479806Z",
     "shell.execute_reply": "2022-01-31T04:55:02.478889Z",
     "shell.execute_reply.started": "2022-01-31T04:55:02.468348Z"
    },
    "id": "dipdB3VtVeBW"
   },
   "outputs": [],
   "source": [
    "x_train, x_test, y_train, y_test = train_test_split(\n",
    "    x, y, random_state=seed, test_size=0.1, stratify=y)  # 1440, 160\n",
    "x_train, x_val, y_train, y_val = train_test_split(\n",
    "    x_train, y_train, random_state=seed, test_size=0.1, stratify=y_train)  # 1296, 144\n"
   ]
  },
  {
   "cell_type": "code",
   "execution_count": 17,
   "metadata": {
    "execution": {
     "iopub.execute_input": "2022-01-31T04:55:02.483134Z",
     "iopub.status.busy": "2022-01-31T04:55:02.482696Z",
     "iopub.status.idle": "2022-01-31T04:55:02.491482Z",
     "shell.execute_reply": "2022-01-31T04:55:02.49069Z",
     "shell.execute_reply.started": "2022-01-31T04:55:02.483105Z"
    },
    "id": "e99HagSF55Lp",
    "outputId": "799f5735-da71-4667-fa2d-4c3a1c12de85"
   },
   "outputs": [
    {
     "name": "stdout",
     "output_type": "stream",
     "text": [
      "<class 'numpy.ndarray'> <class 'numpy.ndarray'>\n"
     ]
    }
   ],
   "source": [
    "print(type(x_train), type(y_train))\n"
   ]
  },
  {
   "cell_type": "code",
   "execution_count": 18,
   "metadata": {},
   "outputs": [],
   "source": [
    "training_set = pd.DataFrame({'text':x_train, 'class_label':y_train})\n",
    "training_set.to_csv(\"training_set.csv\", index=False)\n",
    "validation_set = pd.DataFrame({'text':x_val, 'class_label':y_val})\n",
    "validation_set.to_csv(\"validation_set.csv\", index=False)\n",
    "test_set = pd.DataFrame({'text':x_test, 'class_label':y_test})\n",
    "test_set.to_csv(\"test_set.csv\", index=False)"
   ]
  },
  {
   "cell_type": "markdown",
   "metadata": {},
   "source": [
    "## Bert Encoder\n",
    "We are using `small_Bert` with 4 hidden layers of 512 pooled output with 8 Attention heads\n",
    " - `L` = number of hidden layers, valid values being one of `[2, 4, 6, 8, 10, 12]`\n",
    " - `H` = pooled output size, valid values being one of `[128, 512, 768]`\n",
    " - `A` = number of Attention head, valid values being one of `[2, 4, 8, 12]`"
   ]
  },
  {
   "cell_type": "code",
   "execution_count": 19,
   "metadata": {
    "execution": {
     "iopub.execute_input": "2022-01-31T04:55:02.493575Z",
     "iopub.status.busy": "2022-01-31T04:55:02.492879Z",
     "iopub.status.idle": "2022-01-31T04:55:02.498128Z",
     "shell.execute_reply": "2022-01-31T04:55:02.497047Z",
     "shell.execute_reply.started": "2022-01-31T04:55:02.493537Z"
    }
   },
   "outputs": [],
   "source": [
    "bert_model_name = 'small_bert/bert_en_uncased_L-4_H-512_A-8'\n"
   ]
  },
  {
   "cell_type": "code",
   "execution_count": 20,
   "metadata": {
    "_kg_hide-input": true,
    "execution": {
     "iopub.execute_input": "2022-01-31T04:55:02.500827Z",
     "iopub.status.busy": "2022-01-31T04:55:02.50004Z",
     "iopub.status.idle": "2022-01-31T04:55:02.519423Z",
     "shell.execute_reply": "2022-01-31T04:55:02.518408Z",
     "shell.execute_reply.started": "2022-01-31T04:55:02.500782Z"
    },
    "id": "tSMcOW8_VJiP",
    "outputId": "ca377385-3529-4e86-f345-b528aa35365c"
   },
   "outputs": [
    {
     "name": "stdout",
     "output_type": "stream",
     "text": [
      "BERT model selected           : https://tfhub.dev/tensorflow/small_bert/bert_en_uncased_L-4_H-512_A-8/1\n",
      "Preprocess model auto-selected: https://tfhub.dev/tensorflow/bert_en_uncased_preprocess/3\n"
     ]
    }
   ],
   "source": [
    "map_name_to_handle = {\n",
    "    'bert_en_uncased_L-12_H-768_A-12':\n",
    "        'https://tfhub.dev/tensorflow/bert_en_uncased_L-12_H-768_A-12/3',\n",
    "    'bert_en_cased_L-12_H-768_A-12':\n",
    "        'https://tfhub.dev/tensorflow/bert_en_cased_L-12_H-768_A-12/3',\n",
    "    'bert_multi_cased_L-12_H-768_A-12':\n",
    "        'https://tfhub.dev/tensorflow/bert_multi_cased_L-12_H-768_A-12/3',\n",
    "    'small_bert/bert_en_uncased_L-2_H-128_A-2':\n",
    "        'https://tfhub.dev/tensorflow/small_bert/bert_en_uncased_L-2_H-128_A-2/1',\n",
    "    'small_bert/bert_en_uncased_L-2_H-256_A-4':\n",
    "        'https://tfhub.dev/tensorflow/small_bert/bert_en_uncased_L-2_H-256_A-4/1',\n",
    "    'small_bert/bert_en_uncased_L-2_H-512_A-8':\n",
    "        'https://tfhub.dev/tensorflow/small_bert/bert_en_uncased_L-2_H-512_A-8/1',\n",
    "    'small_bert/bert_en_uncased_L-2_H-768_A-12':\n",
    "        'https://tfhub.dev/tensorflow/small_bert/bert_en_uncased_L-2_H-768_A-12/1',\n",
    "    'small_bert/bert_en_uncased_L-4_H-128_A-2':\n",
    "        'https://tfhub.dev/tensorflow/small_bert/bert_en_uncased_L-4_H-128_A-2/1',\n",
    "    'small_bert/bert_en_uncased_L-4_H-256_A-4':\n",
    "        'https://tfhub.dev/tensorflow/small_bert/bert_en_uncased_L-4_H-256_A-4/1',\n",
    "    'small_bert/bert_en_uncased_L-4_H-512_A-8':\n",
    "        'https://tfhub.dev/tensorflow/small_bert/bert_en_uncased_L-4_H-512_A-8/1',\n",
    "    'small_bert/bert_en_uncased_L-4_H-768_A-12':\n",
    "        'https://tfhub.dev/tensorflow/small_bert/bert_en_uncased_L-4_H-768_A-12/1',\n",
    "    'small_bert/bert_en_uncased_L-6_H-128_A-2':\n",
    "        'https://tfhub.dev/tensorflow/small_bert/bert_en_uncased_L-6_H-128_A-2/1',\n",
    "    'small_bert/bert_en_uncased_L-6_H-256_A-4':\n",
    "        'https://tfhub.dev/tensorflow/small_bert/bert_en_uncased_L-6_H-256_A-4/1',\n",
    "    'small_bert/bert_en_uncased_L-6_H-512_A-8':\n",
    "        'https://tfhub.dev/tensorflow/small_bert/bert_en_uncased_L-6_H-512_A-8/1',\n",
    "    'small_bert/bert_en_uncased_L-6_H-768_A-12':\n",
    "        'https://tfhub.dev/tensorflow/small_bert/bert_en_uncased_L-6_H-768_A-12/1',\n",
    "    'small_bert/bert_en_uncased_L-8_H-128_A-2':\n",
    "        'https://tfhub.dev/tensorflow/small_bert/bert_en_uncased_L-8_H-128_A-2/1',\n",
    "    'small_bert/bert_en_uncased_L-8_H-256_A-4':\n",
    "        'https://tfhub.dev/tensorflow/small_bert/bert_en_uncased_L-8_H-256_A-4/1',\n",
    "    'small_bert/bert_en_uncased_L-8_H-512_A-8':\n",
    "        'https://tfhub.dev/tensorflow/small_bert/bert_en_uncased_L-8_H-512_A-8/1',\n",
    "    'small_bert/bert_en_uncased_L-8_H-768_A-12':\n",
    "        'https://tfhub.dev/tensorflow/small_bert/bert_en_uncased_L-8_H-768_A-12/1',\n",
    "    'small_bert/bert_en_uncased_L-10_H-128_A-2':\n",
    "        'https://tfhub.dev/tensorflow/small_bert/bert_en_uncased_L-10_H-128_A-2/1',\n",
    "    'small_bert/bert_en_uncased_L-10_H-256_A-4':\n",
    "        'https://tfhub.dev/tensorflow/small_bert/bert_en_uncased_L-10_H-256_A-4/1',\n",
    "    'small_bert/bert_en_uncased_L-10_H-512_A-8':\n",
    "        'https://tfhub.dev/tensorflow/small_bert/bert_en_uncased_L-10_H-512_A-8/1',\n",
    "    'small_bert/bert_en_uncased_L-10_H-768_A-12':\n",
    "        'https://tfhub.dev/tensorflow/small_bert/bert_en_uncased_L-10_H-768_A-12/1',\n",
    "    'small_bert/bert_en_uncased_L-12_H-128_A-2':\n",
    "        'https://tfhub.dev/tensorflow/small_bert/bert_en_uncased_L-12_H-128_A-2/1',\n",
    "    'small_bert/bert_en_uncased_L-12_H-256_A-4':\n",
    "        'https://tfhub.dev/tensorflow/small_bert/bert_en_uncased_L-12_H-256_A-4/1',\n",
    "    'small_bert/bert_en_uncased_L-12_H-512_A-8':\n",
    "        'https://tfhub.dev/tensorflow/small_bert/bert_en_uncased_L-12_H-512_A-8/1',\n",
    "    'small_bert/bert_en_uncased_L-12_H-768_A-12':\n",
    "        'https://tfhub.dev/tensorflow/small_bert/bert_en_uncased_L-12_H-768_A-12/1',\n",
    "    'albert_en_base':\n",
    "        'https://tfhub.dev/tensorflow/albert_en_base/2',\n",
    "    'electra_small':\n",
    "        'https://tfhub.dev/google/electra_small/2',\n",
    "    'electra_base':\n",
    "        'https://tfhub.dev/google/electra_base/2',\n",
    "    'experts_pubmed':\n",
    "        'https://tfhub.dev/google/experts/bert/pubmed/2',\n",
    "    'experts_wiki_books':\n",
    "        'https://tfhub.dev/google/experts/bert/wiki_books/2',\n",
    "    'talking-heads_base':\n",
    "        'https://tfhub.dev/tensorflow/talkheads_ggelu_bert_en_base/1',\n",
    "}\n",
    "\n",
    "map_model_to_preprocess = {\n",
    "    'bert_en_uncased_L-12_H-768_A-12':\n",
    "        'https://tfhub.dev/tensorflow/bert_en_uncased_preprocess/3',\n",
    "    'bert_en_cased_L-12_H-768_A-12':\n",
    "        'https://tfhub.dev/tensorflow/bert_en_cased_preprocess/3',\n",
    "    'small_bert/bert_en_uncased_L-2_H-128_A-2':\n",
    "        'https://tfhub.dev/tensorflow/bert_en_uncased_preprocess/3',\n",
    "    'small_bert/bert_en_uncased_L-2_H-256_A-4':\n",
    "        'https://tfhub.dev/tensorflow/bert_en_uncased_preprocess/3',\n",
    "    'small_bert/bert_en_uncased_L-2_H-512_A-8':\n",
    "        'https://tfhub.dev/tensorflow/bert_en_uncased_preprocess/3',\n",
    "    'small_bert/bert_en_uncased_L-2_H-768_A-12':\n",
    "        'https://tfhub.dev/tensorflow/bert_en_uncased_preprocess/3',\n",
    "    'small_bert/bert_en_uncased_L-4_H-128_A-2':\n",
    "        'https://tfhub.dev/tensorflow/bert_en_uncased_preprocess/3',\n",
    "    'small_bert/bert_en_uncased_L-4_H-256_A-4':\n",
    "        'https://tfhub.dev/tensorflow/bert_en_uncased_preprocess/3',\n",
    "    'small_bert/bert_en_uncased_L-4_H-512_A-8':\n",
    "        'https://tfhub.dev/tensorflow/bert_en_uncased_preprocess/3',\n",
    "    'small_bert/bert_en_uncased_L-4_H-768_A-12':\n",
    "        'https://tfhub.dev/tensorflow/bert_en_uncased_preprocess/3',\n",
    "    'small_bert/bert_en_uncased_L-6_H-128_A-2':\n",
    "        'https://tfhub.dev/tensorflow/bert_en_uncased_preprocess/3',\n",
    "    'small_bert/bert_en_uncased_L-6_H-256_A-4':\n",
    "        'https://tfhub.dev/tensorflow/bert_en_uncased_preprocess/3',\n",
    "    'small_bert/bert_en_uncased_L-6_H-512_A-8':\n",
    "        'https://tfhub.dev/tensorflow/bert_en_uncased_preprocess/3',\n",
    "    'small_bert/bert_en_uncased_L-6_H-768_A-12':\n",
    "        'https://tfhub.dev/tensorflow/bert_en_uncased_preprocess/3',\n",
    "    'small_bert/bert_en_uncased_L-8_H-128_A-2':\n",
    "        'https://tfhub.dev/tensorflow/bert_en_uncased_preprocess/3',\n",
    "    'small_bert/bert_en_uncased_L-8_H-256_A-4':\n",
    "        'https://tfhub.dev/tensorflow/bert_en_uncased_preprocess/3',\n",
    "    'small_bert/bert_en_uncased_L-8_H-512_A-8':\n",
    "        'https://tfhub.dev/tensorflow/bert_en_uncased_preprocess/3',\n",
    "    'small_bert/bert_en_uncased_L-8_H-768_A-12':\n",
    "        'https://tfhub.dev/tensorflow/bert_en_uncased_preprocess/3',\n",
    "    'small_bert/bert_en_uncased_L-10_H-128_A-2':\n",
    "        'https://tfhub.dev/tensorflow/bert_en_uncased_preprocess/3',\n",
    "    'small_bert/bert_en_uncased_L-10_H-256_A-4':\n",
    "        'https://tfhub.dev/tensorflow/bert_en_uncased_preprocess/3',\n",
    "    'small_bert/bert_en_uncased_L-10_H-512_A-8':\n",
    "        'https://tfhub.dev/tensorflow/bert_en_uncased_preprocess/3',\n",
    "    'small_bert/bert_en_uncased_L-10_H-768_A-12':\n",
    "        'https://tfhub.dev/tensorflow/bert_en_uncased_preprocess/3',\n",
    "    'small_bert/bert_en_uncased_L-12_H-128_A-2':\n",
    "        'https://tfhub.dev/tensorflow/bert_en_uncased_preprocess/3',\n",
    "    'small_bert/bert_en_uncased_L-12_H-256_A-4':\n",
    "        'https://tfhub.dev/tensorflow/bert_en_uncased_preprocess/3',\n",
    "    'small_bert/bert_en_uncased_L-12_H-512_A-8':\n",
    "        'https://tfhub.dev/tensorflow/bert_en_uncased_preprocess/3',\n",
    "    'small_bert/bert_en_uncased_L-12_H-768_A-12':\n",
    "        'https://tfhub.dev/tensorflow/bert_en_uncased_preprocess/3',\n",
    "    'bert_multi_cased_L-12_H-768_A-12':\n",
    "        'https://tfhub.dev/tensorflow/bert_multi_cased_preprocess/3',\n",
    "    'albert_en_base':\n",
    "        'https://tfhub.dev/tensorflow/albert_en_preprocess/3',\n",
    "    'electra_small':\n",
    "        'https://tfhub.dev/tensorflow/bert_en_uncased_preprocess/3',\n",
    "    'electra_base':\n",
    "        'https://tfhub.dev/tensorflow/bert_en_uncased_preprocess/3',\n",
    "    'experts_pubmed':\n",
    "        'https://tfhub.dev/tensorflow/bert_en_uncased_preprocess/3',\n",
    "    'experts_wiki_books':\n",
    "        'https://tfhub.dev/tensorflow/bert_en_uncased_preprocess/3',\n",
    "    'talking-heads_base':\n",
    "        'https://tfhub.dev/tensorflow/bert_en_uncased_preprocess/3',\n",
    "}\n",
    "\n",
    "tfhub_handle_encoder = map_name_to_handle[bert_model_name]\n",
    "tfhub_handle_preprocess = map_model_to_preprocess[bert_model_name]\n",
    "\n",
    "print(f'BERT model selected           : {tfhub_handle_encoder}')\n",
    "print(f'Preprocess model auto-selected: {tfhub_handle_preprocess}')\n"
   ]
  },
  {
   "cell_type": "markdown",
   "metadata": {},
   "source": [
    "Here we are just looking at what and how `Bert` model we selected in prior cells are handling a test input"
   ]
  },
  {
   "cell_type": "code",
   "execution_count": 21,
   "metadata": {
    "execution": {
     "iopub.execute_input": "2022-01-31T04:55:02.521235Z",
     "iopub.status.busy": "2022-01-31T04:55:02.520829Z",
     "iopub.status.idle": "2022-01-31T04:55:05.338879Z",
     "shell.execute_reply": "2022-01-31T04:55:05.337236Z",
     "shell.execute_reply.started": "2022-01-31T04:55:02.521191Z"
    },
    "id": "3SU8hEJrYzAz",
    "outputId": "e4a5e330-2952-40d6-c43c-941195d203ea"
   },
   "outputs": [
    {
     "name": "stdout",
     "output_type": "stream",
     "text": [
      "Keys       : ['input_mask', 'input_word_ids', 'input_type_ids']\n",
      "Shape      : (1, 128)\n",
      "Word Ids   : [ 101 2023 2003 2107 2019 6429 3309 1010 2288 2489 6350  999  102    0\n",
      "    0    0]\n",
      "Input Mask : [1 1 1 1 1 1 1 1 1 1 1 1 1 0 0 0]\n",
      "Type Ids   : [0 0 0 0 0 0 0 0 0 0 0 0 0 0 0 0]\n"
     ]
    }
   ],
   "source": [
    "bert_preprocess_model = hub.KerasLayer(tfhub_handle_preprocess)\n",
    "text_test = ['this is such an amazing hotel, got free breakfast!']\n",
    "text_preprocessed = bert_preprocess_model(text_test)\n",
    "\n",
    "print(f'Keys       : {list(text_preprocessed.keys())}')\n",
    "print(f'Shape      : {text_preprocessed[\"input_word_ids\"].shape}')\n",
    "print(f'Word Ids   : {text_preprocessed[\"input_word_ids\"][0, :16]}')\n",
    "print(f'Input Mask : {text_preprocessed[\"input_mask\"][0, :16]}')\n",
    "print(f'Type Ids   : {text_preprocessed[\"input_type_ids\"][0, :16]}')\n"
   ]
  },
  {
   "cell_type": "code",
   "execution_count": 22,
   "metadata": {
    "execution": {
     "iopub.execute_input": "2022-01-31T04:55:05.340544Z",
     "iopub.status.busy": "2022-01-31T04:55:05.340305Z",
     "iopub.status.idle": "2022-01-31T04:55:16.83375Z",
     "shell.execute_reply": "2022-01-31T04:55:16.833007Z",
     "shell.execute_reply.started": "2022-01-31T04:55:05.340511Z"
    },
    "id": "AZHSZ-e8ZDvT",
    "outputId": "fee612cf-028b-44f0-daac-99c0e14b549d"
   },
   "outputs": [
    {
     "name": "stdout",
     "output_type": "stream",
     "text": [
      "Loaded BERT: https://tfhub.dev/tensorflow/small_bert/bert_en_uncased_L-4_H-512_A-8/1\n",
      "Pooled Outputs Shape:(1, 512)\n",
      "Pooled Outputs Values:[-0.01987227  0.99802715 -0.01782324  0.11471643  0.7505131   0.8547754\n",
      "  0.9769393  -0.96088856  0.1836034  -0.9910178   0.13961518 -0.953131  ]\n",
      "Sequence Outputs Shape:(1, 128, 512)\n",
      "Sequence Outputs Values:[[ 0.11570202  0.15295406  0.56964415 ...  0.11270478  0.9187778\n",
      "   0.33908707]\n",
      " [-0.68068695 -0.0180361   0.23996821 ...  0.0712609  -0.02126166\n",
      "   0.9217441 ]\n",
      " [-0.6615662   0.96911967 -0.764838   ... -0.0338648  -0.0709905\n",
      "   0.811811  ]\n",
      " ...\n",
      " [-0.60880786 -0.3976768  -0.40144145 ... -0.19483674 -0.05937178\n",
      "   0.63956356]\n",
      " [-0.12815815  0.7059195   0.89031935 ...  0.09381335  1.2351756\n",
      "   0.27097443]\n",
      " [ 0.2573583   1.1357542   0.12476863 ...  0.4488657   1.3416302\n",
      "  -0.09689201]]\n"
     ]
    }
   ],
   "source": [
    "bert_model = hub.KerasLayer(tfhub_handle_encoder)\n",
    "\n",
    "bert_results = bert_model(text_preprocessed)\n",
    "\n",
    "print(f'Loaded BERT: {tfhub_handle_encoder}')\n",
    "print(f'Pooled Outputs Shape:{bert_results[\"pooled_output\"].shape}')\n",
    "print(f'Pooled Outputs Values:{bert_results[\"pooled_output\"][0, :12]}')\n",
    "print(f'Sequence Outputs Shape:{bert_results[\"sequence_output\"].shape}')\n",
    "print(f'Sequence Outputs Values:{bert_results[\"sequence_output\"][0, :12]}')\n"
   ]
  },
  {
   "cell_type": "markdown",
   "metadata": {},
   "source": [
    "## Model building\n",
    "This is our classifier model composed of `Bert` Encoder (includes it's own preprocessing as well) and 1 Dimensional Convolution layers (`tf.keras.layers.Conv1D`). \n",
    " - We normalize the `pooled_output` from `Bert` before feeding it into the classifier\n",
    " - It is then reshaped from `(1, 512)` to `(16, 32)` for convolution layers\n",
    " - kernels(layer parameters) are initialised with `tf.keras.initializers.GlorotUniform` for use with `relu` (rectified ELU) activation\n",
    " - `tf.keras.layers.Dropout` for regularization. \n",
    " - `tf.keras.layers.MaxPool` for using only the most pronounced features of encoded text\n",
    " - `tf.keras.layers.Flatten` is used to flattening the output from prior layers for the final perceptron\n",
    " - `tf.keras.layers.Dense` is the decision perceptron (Also referred to as `FullyConnected`) with sigmoid activation to get an output between `(0, 1)`"
   ]
  },
  {
   "cell_type": "code",
   "execution_count": 23,
   "metadata": {
    "execution": {
     "iopub.execute_input": "2022-01-31T04:55:16.835649Z",
     "iopub.status.busy": "2022-01-31T04:55:16.834901Z",
     "iopub.status.idle": "2022-01-31T04:55:16.847448Z",
     "shell.execute_reply": "2022-01-31T04:55:16.846571Z",
     "shell.execute_reply.started": "2022-01-31T04:55:16.835609Z"
    },
    "id": "Xd4JzUmgQaLt"
   },
   "outputs": [],
   "source": [
    "def build_classifier_model():\n",
    "    text_input = tf.keras.layers.Input(shape=(), dtype=tf.string, name='text')\n",
    "    preprocessing_layer = hub.KerasLayer(\n",
    "        tfhub_handle_preprocess, name='preprocessing')\n",
    "    encoder_inputs = preprocessing_layer(text_input)  # [1, 128]\n",
    "    encoder = hub.KerasLayer(tfhub_handle_encoder,\n",
    "                             trainable=True, name='BERT_encoder')\n",
    "    outputs = encoder(encoder_inputs)\n",
    "    net = outputs['pooled_output']  # [1, 512]\n",
    "    initializer = tf.keras.initializers.GlorotUniform(seed=seed)\n",
    "    net = tf.keras.layers.LayerNormalization(axis=1)(net)\n",
    "    net = tf.keras.layers.Reshape((16, 32))(net)\n",
    "    net = tf.keras.layers.Dropout(0.25)(net)\n",
    "    net = tf.keras.layers.Conv1D(\n",
    "        filters=128, kernel_size=9, kernel_initializer=initializer, padding='same', activation='relu')(net)\n",
    "    net = tf.keras.layers.Dropout(0.25)(net)\n",
    "    net = tf.keras.layers.MaxPool1D(pool_size=2)(net)\n",
    "    net = tf.keras.layers.Conv1D(\n",
    "        filters=128, kernel_size=7, kernel_initializer=initializer, padding='same', activation='relu')(net)\n",
    "    net = tf.keras.layers.Dropout(0.25)(net)\n",
    "    net = tf.keras.layers.MaxPool1D(pool_size=2)(net)\n",
    "    net = tf.keras.layers.Flatten()(net)\n",
    "    net = tf.keras.layers.Dense(\n",
    "        1, activation='sigmoid', name='classifier')(net)\n",
    "    return tf.keras.Model(text_input, net)\n"
   ]
  },
  {
   "cell_type": "code",
   "execution_count": 24,
   "metadata": {
    "execution": {
     "iopub.execute_input": "2022-01-31T04:55:16.849115Z",
     "iopub.status.busy": "2022-01-31T04:55:16.848836Z",
     "iopub.status.idle": "2022-01-31T04:55:28.673287Z",
     "shell.execute_reply": "2022-01-31T04:55:28.67243Z",
     "shell.execute_reply.started": "2022-01-31T04:55:16.849077Z"
    },
    "id": "w-jH68igQ_Ja",
    "outputId": "f1781c93-8ace-400a-ee04-12bb2a23c4bb"
   },
   "outputs": [
    {
     "name": "stdout",
     "output_type": "stream",
     "text": [
      "tf.Tensor([[0.4545582]], shape=(1, 1), dtype=float32)\n"
     ]
    }
   ],
   "source": [
    "# Test code to see if model is able to process simple text string or not as intended\n",
    "classifier_model = build_classifier_model()\n",
    "bert_raw_result = classifier_model(tf.constant(text_test))\n",
    "# This result here isn't accurate as model hasn't been trained yet\n",
    "# It's just to check input/output of the model\n",
    "print(bert_raw_result)\n"
   ]
  },
  {
   "cell_type": "code",
   "execution_count": 25,
   "metadata": {
    "execution": {
     "iopub.execute_input": "2022-01-31T04:55:28.67493Z",
     "iopub.status.busy": "2022-01-31T04:55:28.674653Z",
     "iopub.status.idle": "2022-01-31T04:55:30.002912Z",
     "shell.execute_reply": "2022-01-31T04:55:30.002135Z",
     "shell.execute_reply.started": "2022-01-31T04:55:28.674893Z"
    },
    "id": "6EVmjQJYRM9q",
    "outputId": "6e177d33-0820-4b93-8d9f-f4c0404ac06a"
   },
   "outputs": [
    {
     "name": "stdout",
     "output_type": "stream",
     "text": [
      "('You must install pydot (`pip install pydot`) and install graphviz (see instructions at https://graphviz.gitlab.io/download/) ', 'for plot_model/model_to_dot to work.')\n"
     ]
    }
   ],
   "source": [
    "tf.keras.utils.plot_model(classifier_model, show_shapes=True, show_dtype=True,\n",
    "                          show_layer_names=True, expand_nested=True, dpi=128, show_layer_activations=True\n",
    "                          )\n"
   ]
  },
  {
   "cell_type": "markdown",
   "metadata": {},
   "source": [
    " - We are using `tf.keras.losses.BinaryCrossentropy` for Binary cross-entropy loss for our binary classifier\n",
    " - We are using EarlyStopping callback to prevent overfitting.\n",
    " - `tf.metrics.BinaryAccuracy` is just a metric to evaluate model accuracy, binary means it expects output between `(0, 1)`"
   ]
  },
  {
   "cell_type": "code",
   "execution_count": 26,
   "metadata": {
    "execution": {
     "iopub.execute_input": "2022-01-31T04:55:30.004477Z",
     "iopub.status.busy": "2022-01-31T04:55:30.004185Z",
     "iopub.status.idle": "2022-01-31T04:55:30.02206Z",
     "shell.execute_reply": "2022-01-31T04:55:30.021443Z",
     "shell.execute_reply.started": "2022-01-31T04:55:30.004439Z"
    },
    "id": "SFfj17LTU7ra"
   },
   "outputs": [],
   "source": [
    "loss = tf.keras.losses.BinaryCrossentropy(from_logits=False)\n",
    "metrics = [tf.metrics.BinaryAccuracy(), tf.keras.metrics.FalseNegatives(), tf.keras.metrics.FalsePositives(), tf.keras.metrics.TrueNegatives(), tf.keras.metrics.TruePositives()]\n",
    "# minimum delta is an aribitrary 3e-3, consider 2e-3 or higher values as well\n",
    "callbacks = [\n",
    "    tf.keras.callbacks.EarlyStopping(\n",
    "        monitor='val_loss', min_delta=1e-3, patience=3, verbose=0, mode='min', restore_best_weights=True),\n",
    "    # tf.keras.callbacks.ModelCheckpoint(\"weights.hdf5\", monitor='val_loss', save_best_only=True, save_freq='epoch'),\n",
    "]\n"
   ]
  },
  {
   "cell_type": "code",
   "execution_count": 27,
   "metadata": {
    "execution": {
     "iopub.execute_input": "2022-01-31T04:55:30.024875Z",
     "iopub.status.busy": "2022-01-31T04:55:30.023156Z",
     "iopub.status.idle": "2022-01-31T04:55:30.11403Z",
     "shell.execute_reply": "2022-01-31T04:55:30.113147Z",
     "shell.execute_reply.started": "2022-01-31T04:55:30.024837Z"
    },
    "id": "ESzFw2rIU9Dc"
   },
   "outputs": [],
   "source": [
    "# Increased Epoch to 100 because EarlyStopping Callback will stop training once improvements stop\n",
    "epochs = 100\n",
    "\n",
    "# Here we are initialising the `AdamW` optimizer with hyperparameters\n",
    "steps_per_epoch = x_train.size\n",
    "num_train_steps = steps_per_epoch * epochs\n",
    "num_warmup_steps = int(0.1 * num_train_steps)\n",
    "\n",
    "init_lr = 3e-5 # initial learning rate\n",
    "optimizer = optimization.create_optimizer(\n",
    "    init_lr=init_lr, num_train_steps=num_train_steps, num_warmup_steps=num_warmup_steps, optimizer_type='adamw')\n"
   ]
  },
  {
   "cell_type": "code",
   "execution_count": 28,
   "metadata": {
    "execution": {
     "iopub.execute_input": "2022-01-31T04:55:30.115935Z",
     "iopub.status.busy": "2022-01-31T04:55:30.11548Z",
     "iopub.status.idle": "2022-01-31T04:55:30.13524Z",
     "shell.execute_reply": "2022-01-31T04:55:30.134539Z",
     "shell.execute_reply.started": "2022-01-31T04:55:30.115818Z"
    },
    "id": "SZyC4afwVISW"
   },
   "outputs": [],
   "source": [
    "# Compiles the model with the optimizer, loss function and metric to be used for evaluating progress\n",
    "classifier_model.compile(optimizer=optimizer, loss=loss, metrics=metrics)\n"
   ]
  },
  {
   "cell_type": "markdown",
   "metadata": {},
   "source": [
    "## Model Training\n",
    "This is the training step for our model\n",
    "`history` variable stores the per `epoch` results for training and validation dataset accuracy and loss\n",
    "`step` = number of batches the the data is fed to the model for loss evaluation and parameter optimization\n",
    "`epoch` = 1 complete run of all available `steps`, whole training data has been fed at the end of an epoch."
   ]
  },
  {
   "cell_type": "code",
   "execution_count": 29,
   "metadata": {
    "execution": {
     "iopub.execute_input": "2022-01-31T04:55:30.140244Z",
     "iopub.status.busy": "2022-01-31T04:55:30.13953Z",
     "iopub.status.idle": "2022-01-31T04:57:29.374204Z",
     "shell.execute_reply": "2022-01-31T04:57:29.373066Z",
     "shell.execute_reply.started": "2022-01-31T04:55:30.140206Z"
    },
    "id": "DGYHDRzdVOmf",
    "scrolled": true
   },
   "outputs": [
    {
     "name": "stdout",
     "output_type": "stream",
     "text": [
      "Training model with https://tfhub.dev/tensorflow/small_bert/bert_en_uncased_L-4_H-512_A-8/1\n",
      "Epoch 1/100\n",
      "41/41 [==============================] - 163s 4s/step - loss: 0.7276 - binary_accuracy: 0.5309 - false_negatives: 300.0000 - false_positives: 308.0000 - true_negatives: 340.0000 - true_positives: 348.0000 - val_loss: 0.6814 - val_binary_accuracy: 0.6111 - val_false_negatives: 19.0000 - val_false_positives: 37.0000 - val_true_negatives: 35.0000 - val_true_positives: 53.0000\n",
      "Epoch 2/100\n",
      "41/41 [==============================] - 137s 3s/step - loss: 0.7120 - binary_accuracy: 0.5494 - false_negatives: 262.0000 - false_positives: 322.0000 - true_negatives: 326.0000 - true_positives: 386.0000 - val_loss: 0.6807 - val_binary_accuracy: 0.6181 - val_false_negatives: 19.0000 - val_false_positives: 36.0000 - val_true_negatives: 36.0000 - val_true_positives: 53.0000\n",
      "Epoch 3/100\n",
      "41/41 [==============================] - 139s 3s/step - loss: 0.7272 - binary_accuracy: 0.5177 - false_negatives: 311.0000 - false_positives: 314.0000 - true_negatives: 334.0000 - true_positives: 337.0000 - val_loss: 0.6793 - val_binary_accuracy: 0.6181 - val_false_negatives: 19.0000 - val_false_positives: 36.0000 - val_true_negatives: 36.0000 - val_true_positives: 53.0000\n",
      "Epoch 4/100\n",
      "41/41 [==============================] - 138s 3s/step - loss: 0.7282 - binary_accuracy: 0.5000 - false_negatives: 309.0000 - false_positives: 339.0000 - true_negatives: 309.0000 - true_positives: 339.0000 - val_loss: 0.6776 - val_binary_accuracy: 0.6111 - val_false_negatives: 19.0000 - val_false_positives: 37.0000 - val_true_negatives: 35.0000 - val_true_positives: 53.0000\n",
      "Epoch 5/100\n",
      "41/41 [==============================] - 143s 4s/step - loss: 0.7228 - binary_accuracy: 0.5100 - false_negatives: 334.0000 - false_positives: 301.0000 - true_negatives: 347.0000 - true_positives: 314.0000 - val_loss: 0.6754 - val_binary_accuracy: 0.6319 - val_false_negatives: 17.0000 - val_false_positives: 36.0000 - val_true_negatives: 36.0000 - val_true_positives: 55.0000\n",
      "Epoch 6/100\n",
      "41/41 [==============================] - 149s 4s/step - loss: 0.7262 - binary_accuracy: 0.5293 - false_negatives: 298.0000 - false_positives: 312.0000 - true_negatives: 336.0000 - true_positives: 350.0000 - val_loss: 0.6726 - val_binary_accuracy: 0.6458 - val_false_negatives: 16.0000 - val_false_positives: 35.0000 - val_true_negatives: 37.0000 - val_true_positives: 56.0000\n",
      "Epoch 7/100\n",
      "41/41 [==============================] - 141s 3s/step - loss: 0.7165 - binary_accuracy: 0.5247 - false_negatives: 317.0000 - false_positives: 299.0000 - true_negatives: 349.0000 - true_positives: 331.0000 - val_loss: 0.6695 - val_binary_accuracy: 0.6597 - val_false_negatives: 15.0000 - val_false_positives: 34.0000 - val_true_negatives: 38.0000 - val_true_positives: 57.0000\n",
      "Epoch 8/100\n",
      "41/41 [==============================] - 147s 4s/step - loss: 0.7009 - binary_accuracy: 0.5671 - false_negatives: 279.0000 - false_positives: 282.0000 - true_negatives: 366.0000 - true_positives: 369.0000 - val_loss: 0.6666 - val_binary_accuracy: 0.6528 - val_false_negatives: 16.0000 - val_false_positives: 34.0000 - val_true_negatives: 38.0000 - val_true_positives: 56.0000\n",
      "Epoch 9/100\n",
      "41/41 [==============================] - 162s 4s/step - loss: 0.7154 - binary_accuracy: 0.5270 - false_negatives: 311.0000 - false_positives: 302.0000 - true_negatives: 346.0000 - true_positives: 337.0000 - val_loss: 0.6632 - val_binary_accuracy: 0.6667 - val_false_negatives: 12.0000 - val_false_positives: 36.0000 - val_true_negatives: 36.0000 - val_true_positives: 60.0000\n",
      "Epoch 10/100\n",
      "41/41 [==============================] - 180s 4s/step - loss: 0.7129 - binary_accuracy: 0.5463 - false_negatives: 298.0000 - false_positives: 290.0000 - true_negatives: 358.0000 - true_positives: 350.0000 - val_loss: 0.6607 - val_binary_accuracy: 0.6597 - val_false_negatives: 12.0000 - val_false_positives: 37.0000 - val_true_negatives: 35.0000 - val_true_positives: 60.0000\n",
      "Epoch 11/100\n",
      "41/41 [==============================] - 169s 4s/step - loss: 0.6985 - binary_accuracy: 0.5440 - false_negatives: 307.0000 - false_positives: 284.0000 - true_negatives: 364.0000 - true_positives: 341.0000 - val_loss: 0.6571 - val_binary_accuracy: 0.6458 - val_false_negatives: 14.0000 - val_false_positives: 37.0000 - val_true_negatives: 35.0000 - val_true_positives: 58.0000\n",
      "Epoch 12/100\n",
      "41/41 [==============================] - 169s 4s/step - loss: 0.6954 - binary_accuracy: 0.5432 - false_negatives: 298.0000 - false_positives: 294.0000 - true_negatives: 354.0000 - true_positives: 350.0000 - val_loss: 0.6522 - val_binary_accuracy: 0.6528 - val_false_negatives: 11.0000 - val_false_positives: 39.0000 - val_true_negatives: 33.0000 - val_true_positives: 61.0000\n",
      "Epoch 13/100\n",
      "41/41 [==============================] - 162s 4s/step - loss: 0.6916 - binary_accuracy: 0.5540 - false_negatives: 284.0000 - false_positives: 294.0000 - true_negatives: 354.0000 - true_positives: 364.0000 - val_loss: 0.6471 - val_binary_accuracy: 0.6667 - val_false_negatives: 10.0000 - val_false_positives: 38.0000 - val_true_negatives: 34.0000 - val_true_positives: 62.0000\n",
      "Epoch 14/100\n",
      "41/41 [==============================] - 155s 4s/step - loss: 0.6723 - binary_accuracy: 0.6042 - false_negatives: 269.0000 - false_positives: 244.0000 - true_negatives: 404.0000 - true_positives: 379.0000 - val_loss: 0.6429 - val_binary_accuracy: 0.6458 - val_false_negatives: 8.0000 - val_false_positives: 43.0000 - val_true_negatives: 29.0000 - val_true_positives: 64.0000\n",
      "Epoch 15/100\n",
      "41/41 [==============================] - 157s 4s/step - loss: 0.6730 - binary_accuracy: 0.5941 - false_negatives: 266.0000 - false_positives: 260.0000 - true_negatives: 388.0000 - true_positives: 382.0000 - val_loss: 0.6312 - val_binary_accuracy: 0.6944 - val_false_negatives: 10.0000 - val_false_positives: 34.0000 - val_true_negatives: 38.0000 - val_true_positives: 62.0000\n",
      "Epoch 16/100\n",
      "41/41 [==============================] - 157s 4s/step - loss: 0.6585 - binary_accuracy: 0.6289 - false_negatives: 246.0000 - false_positives: 235.0000 - true_negatives: 413.0000 - true_positives: 402.0000 - val_loss: 0.6264 - val_binary_accuracy: 0.6875 - val_false_negatives: 7.0000 - val_false_positives: 38.0000 - val_true_negatives: 34.0000 - val_true_positives: 65.0000\n",
      "Epoch 17/100\n",
      "41/41 [==============================] - 156s 4s/step - loss: 0.6352 - binary_accuracy: 0.6312 - false_negatives: 243.0000 - false_positives: 235.0000 - true_negatives: 413.0000 - true_positives: 405.0000 - val_loss: 0.6119 - val_binary_accuracy: 0.6806 - val_false_negatives: 8.0000 - val_false_positives: 38.0000 - val_true_negatives: 34.0000 - val_true_positives: 64.0000\n",
      "Epoch 18/100\n",
      "41/41 [==============================] - 158s 4s/step - loss: 0.6302 - binary_accuracy: 0.6543 - false_negatives: 232.0000 - false_positives: 216.0000 - true_negatives: 432.0000 - true_positives: 416.0000 - val_loss: 0.6047 - val_binary_accuracy: 0.6667 - val_false_negatives: 6.0000 - val_false_positives: 42.0000 - val_true_negatives: 30.0000 - val_true_positives: 66.0000\n",
      "Epoch 19/100\n",
      "41/41 [==============================] - 139s 3s/step - loss: 0.6316 - binary_accuracy: 0.6427 - false_negatives: 239.0000 - false_positives: 224.0000 - true_negatives: 424.0000 - true_positives: 409.0000 - val_loss: 0.6020 - val_binary_accuracy: 0.6736 - val_false_negatives: 5.0000 - val_false_positives: 42.0000 - val_true_negatives: 30.0000 - val_true_positives: 67.0000\n",
      "Epoch 20/100\n",
      "41/41 [==============================] - 138s 3s/step - loss: 0.6231 - binary_accuracy: 0.6659 - false_negatives: 203.0000 - false_positives: 230.0000 - true_negatives: 418.0000 - true_positives: 445.0000 - val_loss: 0.5658 - val_binary_accuracy: 0.7153 - val_false_negatives: 8.0000 - val_false_positives: 33.0000 - val_true_negatives: 39.0000 - val_true_positives: 64.0000\n",
      "Epoch 21/100\n",
      "41/41 [==============================] - 149s 4s/step - loss: 0.5869 - binary_accuracy: 0.6914 - false_negatives: 232.0000 - false_positives: 168.0000 - true_negatives: 480.0000 - true_positives: 416.0000 - val_loss: 0.5796 - val_binary_accuracy: 0.6667 - val_false_negatives: 5.0000 - val_false_positives: 43.0000 - val_true_negatives: 29.0000 - val_true_positives: 67.0000\n"
     ]
    },
    {
     "name": "stdout",
     "output_type": "stream",
     "text": [
      "Epoch 22/100\n",
      "41/41 [==============================] - 153s 4s/step - loss: 0.5659 - binary_accuracy: 0.7145 - false_negatives: 185.0000 - false_positives: 185.0000 - true_negatives: 463.0000 - true_positives: 463.0000 - val_loss: 0.5585 - val_binary_accuracy: 0.6944 - val_false_negatives: 5.0000 - val_false_positives: 39.0000 - val_true_negatives: 33.0000 - val_true_positives: 67.0000\n",
      "Epoch 23/100\n",
      "41/41 [==============================] - 158s 4s/step - loss: 0.5618 - binary_accuracy: 0.7238 - false_negatives: 166.0000 - false_positives: 192.0000 - true_negatives: 456.0000 - true_positives: 482.0000 - val_loss: 0.5291 - val_binary_accuracy: 0.7083 - val_false_negatives: 7.0000 - val_false_positives: 35.0000 - val_true_negatives: 37.0000 - val_true_positives: 65.0000\n",
      "Epoch 24/100\n",
      "41/41 [==============================] - 154s 4s/step - loss: 0.5213 - binary_accuracy: 0.7600 - false_negatives: 150.0000 - false_positives: 161.0000 - true_negatives: 487.0000 - true_positives: 498.0000 - val_loss: 0.5391 - val_binary_accuracy: 0.6944 - val_false_negatives: 5.0000 - val_false_positives: 39.0000 - val_true_negatives: 33.0000 - val_true_positives: 67.0000\n",
      "Epoch 25/100\n",
      "41/41 [==============================] - 156s 4s/step - loss: 0.5181 - binary_accuracy: 0.7593 - false_negatives: 158.0000 - false_positives: 154.0000 - true_negatives: 494.0000 - true_positives: 490.0000 - val_loss: 0.4901 - val_binary_accuracy: 0.7569 - val_false_negatives: 7.0000 - val_false_positives: 28.0000 - val_true_negatives: 44.0000 - val_true_positives: 65.0000\n",
      "Epoch 26/100\n",
      "41/41 [==============================] - 155s 4s/step - loss: 0.4730 - binary_accuracy: 0.7963 - false_negatives: 133.0000 - false_positives: 131.0000 - true_negatives: 517.0000 - true_positives: 515.0000 - val_loss: 0.5119 - val_binary_accuracy: 0.7222 - val_false_negatives: 5.0000 - val_false_positives: 35.0000 - val_true_negatives: 37.0000 - val_true_positives: 67.0000\n",
      "Epoch 27/100\n",
      "41/41 [==============================] - 160s 4s/step - loss: 0.4387 - binary_accuracy: 0.8048 - false_negatives: 126.0000 - false_positives: 127.0000 - true_negatives: 521.0000 - true_positives: 522.0000 - val_loss: 0.4841 - val_binary_accuracy: 0.7431 - val_false_negatives: 5.0000 - val_false_positives: 32.0000 - val_true_negatives: 40.0000 - val_true_positives: 67.0000\n",
      "Epoch 28/100\n",
      "41/41 [==============================] - 145s 4s/step - loss: 0.4344 - binary_accuracy: 0.8164 - false_negatives: 116.0000 - false_positives: 122.0000 - true_negatives: 526.0000 - true_positives: 532.0000 - val_loss: 0.4686 - val_binary_accuracy: 0.7708 - val_false_negatives: 5.0000 - val_false_positives: 28.0000 - val_true_negatives: 44.0000 - val_true_positives: 67.0000\n",
      "Epoch 29/100\n",
      "41/41 [==============================] - 147s 4s/step - loss: 0.4124 - binary_accuracy: 0.8310 - false_negatives: 109.0000 - false_positives: 110.0000 - true_negatives: 538.0000 - true_positives: 539.0000 - val_loss: 0.4902 - val_binary_accuracy: 0.7361 - val_false_negatives: 5.0000 - val_false_positives: 33.0000 - val_true_negatives: 39.0000 - val_true_positives: 67.0000\n",
      "Epoch 30/100\n",
      "41/41 [==============================] - 151s 4s/step - loss: 0.3917 - binary_accuracy: 0.8480 - false_negatives: 96.0000 - false_positives: 101.0000 - true_negatives: 547.0000 - true_positives: 552.0000 - val_loss: 0.4754 - val_binary_accuracy: 0.7500 - val_false_negatives: 4.0000 - val_false_positives: 32.0000 - val_true_negatives: 40.0000 - val_true_positives: 68.0000\n",
      "Epoch 31/100\n",
      "41/41 [==============================] - 147s 4s/step - loss: 0.3726 - binary_accuracy: 0.8511 - false_negatives: 88.0000 - false_positives: 105.0000 - true_negatives: 543.0000 - true_positives: 560.0000 - val_loss: 0.4308 - val_binary_accuracy: 0.8194 - val_false_negatives: 5.0000 - val_false_positives: 21.0000 - val_true_negatives: 51.0000 - val_true_positives: 67.0000\n",
      "Epoch 32/100\n",
      "41/41 [==============================] - 143s 3s/step - loss: 0.3466 - binary_accuracy: 0.8650 - false_negatives: 85.0000 - false_positives: 90.0000 - true_negatives: 558.0000 - true_positives: 563.0000 - val_loss: 0.4753 - val_binary_accuracy: 0.7708 - val_false_negatives: 4.0000 - val_false_positives: 29.0000 - val_true_negatives: 43.0000 - val_true_positives: 68.0000\n",
      "Epoch 33/100\n",
      "41/41 [==============================] - 152s 4s/step - loss: 0.3312 - binary_accuracy: 0.8758 - false_negatives: 84.0000 - false_positives: 77.0000 - true_negatives: 571.0000 - true_positives: 564.0000 - val_loss: 0.4154 - val_binary_accuracy: 0.8194 - val_false_negatives: 4.0000 - val_false_positives: 22.0000 - val_true_negatives: 50.0000 - val_true_positives: 68.0000\n",
      "Epoch 34/100\n",
      "41/41 [==============================] - 158s 4s/step - loss: 0.3059 - binary_accuracy: 0.8827 - false_negatives: 73.0000 - false_positives: 79.0000 - true_negatives: 569.0000 - true_positives: 575.0000 - val_loss: 0.4200 - val_binary_accuracy: 0.8056 - val_false_negatives: 4.0000 - val_false_positives: 24.0000 - val_true_negatives: 48.0000 - val_true_positives: 68.0000\n",
      "Epoch 35/100\n",
      "41/41 [==============================] - 153s 4s/step - loss: 0.3007 - binary_accuracy: 0.8897 - false_negatives: 68.0000 - false_positives: 75.0000 - true_negatives: 573.0000 - true_positives: 580.0000 - val_loss: 0.3815 - val_binary_accuracy: 0.8333 - val_false_negatives: 4.0000 - val_false_positives: 20.0000 - val_true_negatives: 52.0000 - val_true_positives: 68.0000\n",
      "Epoch 36/100\n",
      "41/41 [==============================] - 157s 4s/step - loss: 0.2902 - binary_accuracy: 0.8873 - false_negatives: 72.0000 - false_positives: 74.0000 - true_negatives: 574.0000 - true_positives: 576.0000 - val_loss: 0.4298 - val_binary_accuracy: 0.8056 - val_false_negatives: 4.0000 - val_false_positives: 24.0000 - val_true_negatives: 48.0000 - val_true_positives: 68.0000\n",
      "Epoch 37/100\n",
      "41/41 [==============================] - 161s 4s/step - loss: 0.2592 - binary_accuracy: 0.9097 - false_negatives: 49.0000 - false_positives: 68.0000 - true_negatives: 580.0000 - true_positives: 599.0000 - val_loss: 0.3356 - val_binary_accuracy: 0.8403 - val_false_negatives: 7.0000 - val_false_positives: 16.0000 - val_true_negatives: 56.0000 - val_true_positives: 65.0000\n",
      "Epoch 38/100\n",
      "41/41 [==============================] - 157s 4s/step - loss: 0.2638 - binary_accuracy: 0.9035 - false_negatives: 63.0000 - false_positives: 62.0000 - true_negatives: 586.0000 - true_positives: 585.0000 - val_loss: 0.3600 - val_binary_accuracy: 0.8333 - val_false_negatives: 5.0000 - val_false_positives: 19.0000 - val_true_negatives: 53.0000 - val_true_positives: 67.0000\n",
      "Epoch 39/100\n",
      "41/41 [==============================] - 149s 4s/step - loss: 0.2352 - binary_accuracy: 0.9198 - false_negatives: 49.0000 - false_positives: 55.0000 - true_negatives: 593.0000 - true_positives: 599.0000 - val_loss: 0.3303 - val_binary_accuracy: 0.8403 - val_false_negatives: 7.0000 - val_false_positives: 16.0000 - val_true_negatives: 56.0000 - val_true_positives: 65.0000\n",
      "Epoch 40/100\n",
      "41/41 [==============================] - 140s 3s/step - loss: 0.2253 - binary_accuracy: 0.9221 - false_negatives: 55.0000 - false_positives: 46.0000 - true_negatives: 602.0000 - true_positives: 593.0000 - val_loss: 0.3383 - val_binary_accuracy: 0.8472 - val_false_negatives: 7.0000 - val_false_positives: 15.0000 - val_true_negatives: 57.0000 - val_true_positives: 65.0000\n",
      "Epoch 41/100\n",
      "41/41 [==============================] - 162s 4s/step - loss: 0.2125 - binary_accuracy: 0.9282 - false_negatives: 46.0000 - false_positives: 47.0000 - true_negatives: 601.0000 - true_positives: 602.0000 - val_loss: 0.3036 - val_binary_accuracy: 0.8681 - val_false_negatives: 8.0000 - val_false_positives: 11.0000 - val_true_negatives: 61.0000 - val_true_positives: 64.0000\n",
      "Epoch 42/100\n",
      "41/41 [==============================] - 159s 4s/step - loss: 0.1925 - binary_accuracy: 0.9390 - false_negatives: 36.0000 - false_positives: 43.0000 - true_negatives: 605.0000 - true_positives: 612.0000 - val_loss: 0.3376 - val_binary_accuracy: 0.8403 - val_false_negatives: 7.0000 - val_false_positives: 16.0000 - val_true_negatives: 56.0000 - val_true_positives: 65.0000\n",
      "Epoch 43/100\n"
     ]
    },
    {
     "name": "stdout",
     "output_type": "stream",
     "text": [
      "41/41 [==============================] - 160s 4s/step - loss: 0.1814 - binary_accuracy: 0.9336 - false_negatives: 44.0000 - false_positives: 42.0000 - true_negatives: 606.0000 - true_positives: 604.0000 - val_loss: 0.4718 - val_binary_accuracy: 0.8125 - val_false_negatives: 3.0000 - val_false_positives: 24.0000 - val_true_negatives: 48.0000 - val_true_positives: 69.0000\n",
      "Epoch 44/100\n",
      "41/41 [==============================] - 158s 4s/step - loss: 0.1701 - binary_accuracy: 0.9468 - false_negatives: 29.0000 - false_positives: 40.0000 - true_negatives: 608.0000 - true_positives: 619.0000 - val_loss: 0.3650 - val_binary_accuracy: 0.8403 - val_false_negatives: 5.0000 - val_false_positives: 18.0000 - val_true_negatives: 54.0000 - val_true_positives: 67.0000\n"
     ]
    }
   ],
   "source": [
    "print(f'Training model with {tfhub_handle_encoder}')\n",
    "history = classifier_model.fit(x=x_train, y=y_train, validation_data=(\n",
    "    x_val, y_val), epochs=epochs, callbacks=callbacks)\n"
   ]
  },
  {
   "cell_type": "code",
   "execution_count": 30,
   "metadata": {
    "execution": {
     "iopub.status.busy": "2022-01-31T04:57:29.37543Z",
     "iopub.status.idle": "2022-01-31T04:57:29.376025Z",
     "shell.execute_reply": "2022-01-31T04:57:29.375805Z",
     "shell.execute_reply.started": "2022-01-31T04:57:29.375777Z"
    },
    "id": "JnT3bf5ZL2be"
   },
   "outputs": [
    {
     "name": "stdout",
     "output_type": "stream",
     "text": [
      "dict_keys(['loss', 'binary_accuracy', 'false_negatives', 'false_positives', 'true_negatives', 'true_positives', 'val_loss', 'val_binary_accuracy', 'val_false_negatives', 'val_false_positives', 'val_true_negatives', 'val_true_positives'])\n"
     ]
    }
   ],
   "source": [
    "history_dict = history.history\n",
    "print(history_dict.keys())\n"
   ]
  },
  {
   "cell_type": "code",
   "execution_count": 54,
   "metadata": {
    "execution": {
     "iopub.status.busy": "2022-01-31T04:57:29.377192Z",
     "iopub.status.idle": "2022-01-31T04:57:29.37775Z",
     "shell.execute_reply": "2022-01-31T04:57:29.377534Z",
     "shell.execute_reply.started": "2022-01-31T04:57:29.37751Z"
    },
    "id": "KmdVJ29yKd9L"
   },
   "outputs": [
    {
     "name": "stdout",
     "output_type": "stream",
     "text": [
      "5/5 [==============================] - 9s 2s/step - loss: 0.2874 - binary_accuracy: 0.9062 - false_negatives: 5.0000 - false_positives: 10.0000 - true_negatives: 70.0000 - true_positives: 75.0000\n",
      "Loss: 0.29\n",
      "Accuracy: 0.91\n",
      "True Positive Rate: 0.94\n",
      "True Negative Rate: 0.88\n",
      "F1 Score: 0.91\n",
      "Positive Predictive Value: 0.88\n",
      "Negative Predictive Value: 0.93\n"
     ]
    }
   ],
   "source": [
    "# a blind test for the model as it's never been evaluated against \n",
    "# or trained with the test set for a test of how well it's learnt to classify\n",
    "\n",
    "loss, accuracy, fn, fp, tn, tp = classifier_model.evaluate(x_test, y_test)\n",
    "\n",
    "print(f'Loss: {loss:.2}')\n",
    "print(f'Accuracy: {accuracy:.2}')\n",
    "print(f'True Positive Rate: {tp / (fn + tp):.2}')\n",
    "print(f'True Negative Rate: {tn / (fp + tn):.2}')\n",
    "recall = tp / (fn + tp)\n",
    "precision = tp / (fp + tp)\n",
    "print(f'F1 Score: {(2 * precision * recall) / (precision + recall):.2}')\n",
    "print(f'Positive Predictive Value: {tp / (fp + tp):.2}')\n",
    "print(f'Negative Predictive Value: {tn / (fn + tn):.2}')"
   ]
  },
  {
   "cell_type": "markdown",
   "metadata": {},
   "source": [
    "## Training Graph\n",
    "This graph plots the progress of the model's training based `accuracy` & `loss` for both training and validation datasets per `epoch`"
   ]
  },
  {
   "cell_type": "code",
   "execution_count": 55,
   "metadata": {
    "execution": {
     "iopub.status.busy": "2022-01-31T04:57:29.378842Z",
     "iopub.status.idle": "2022-01-31T04:57:29.379397Z",
     "shell.execute_reply": "2022-01-31T04:57:29.379175Z",
     "shell.execute_reply.started": "2022-01-31T04:57:29.379149Z"
    },
    "id": "b3wKVCZiYyuk"
   },
   "outputs": [
    {
     "data": {
      "text/plain": [
       "<matplotlib.legend.Legend at 0x7f4c765f6160>"
      ]
     },
     "execution_count": 55,
     "metadata": {},
     "output_type": "execute_result"
    },
    {
     "data": {
      "image/png": "[encoded data removed]",
      "text/plain": [
       "<Figure size 720x432 with 2 Axes>"
      ]
     },
     "metadata": {
      "needs_background": "light"
     },
     "output_type": "display_data"
    }
   ],
   "source": [
    "acc = history_dict['binary_accuracy']\n",
    "val_acc = history_dict['val_binary_accuracy']\n",
    "loss = history_dict['loss']\n",
    "val_loss = history_dict['val_loss']\n",
    "\n",
    "epochs = range(1, len(acc) + 1)\n",
    "fig = plt.figure(figsize=(10, 6))\n",
    "fig.tight_layout()\n",
    "\n",
    "plt.subplot(2, 1, 1)\n",
    "# r is for \"solid red line\"\n",
    "plt.plot(epochs, loss, 'r', label='Training loss')\n",
    "# b is for \"solid blue line\"\n",
    "plt.plot(epochs, val_loss, 'b', label='Validation loss')\n",
    "plt.title('Training and validation loss')\n",
    "plt.xlabel('Epochs')\n",
    "plt.ylabel('Loss')\n",
    "plt.legend(loc='upper right')\n",
    "\n",
    "plt.subplot(2, 1, 2)\n",
    "plt.plot(epochs, acc, 'r', label='Training acc')\n",
    "plt.plot(epochs, val_acc, 'b', label='Validation acc')\n",
    "plt.title('Training and validation accuracy')\n",
    "plt.xlabel('Epochs')\n",
    "plt.ylabel('Accuracy')\n",
    "plt.legend(loc='lower right')\n"
   ]
  },
  {
   "cell_type": "code",
   "execution_count": 62,
   "metadata": {},
   "outputs": [
    {
     "data": {
      "text/plain": [
       "<matplotlib.legend.Legend at 0x7f4c09b41d30>"
      ]
     },
     "execution_count": 62,
     "metadata": {},
     "output_type": "execute_result"
    },
    {
     "data": {
      "image/png": "[encoded data removed]",
      "text/plain": [
       "<Figure size 720x432 with 2 Axes>"
      ]
     },
     "metadata": {
      "needs_background": "light"
     },
     "output_type": "display_data"
    }
   ],
   "source": [
    "acc = np.array(history_dict['true_negatives']) / (np.array(history_dict['false_positives']) + np.array(history_dict['true_negatives']))\n",
    "val_acc = np.array(history_dict['val_true_negatives']) / (np.array(history_dict['val_false_positives']) + np.array(history_dict['val_true_negatives']))\n",
    "loss = np.array(history_dict['true_positives']) / (np.array(history_dict['false_negatives']) + np.array(history_dict['true_positives']))\n",
    "val_loss = np.array(history_dict['val_true_positives']) / (np.array(history_dict['val_false_negatives']) + np.array(history_dict['val_true_positives']))\n",
    "\n",
    "epochs = range(1, len(acc) + 1)\n",
    "fig = plt.figure(figsize=(10, 6))\n",
    "fig.tight_layout()\n",
    "\n",
    "plt.subplot(2, 1, 1)\n",
    "# r is for \"solid red line\"\n",
    "plt.plot(epochs, loss, 'r', label='Training TNR')\n",
    "# b is for \"solid blue line\"\n",
    "plt.plot(epochs, val_loss, 'b', label='Validation TNR')\n",
    "plt.title('Training and validation TNR')\n",
    "plt.xlabel('Epochs')\n",
    "plt.ylabel('True Negative Rate')\n",
    "plt.legend(loc='lower right')\n",
    "\n",
    "plt.subplot(2, 1, 2)\n",
    "plt.plot(epochs, acc, 'r', label='Training TPR')\n",
    "plt.plot(epochs, val_acc, 'b', label='Validation TPR')\n",
    "plt.title('Training and validation accuracy')\n",
    "plt.xlabel('Epochs')\n",
    "plt.ylabel('True Positive Rate')\n",
    "plt.legend(loc='lower right')\n"
   ]
  },
  {
   "cell_type": "code",
   "execution_count": 57,
   "metadata": {},
   "outputs": [
    {
     "data": {
      "image/png": "[encoded data removed]",
      "text/plain": [
       "<Figure size 432x288 with 2 Axes>"
      ]
     },
     "metadata": {
      "needs_background": "light"
     },
     "output_type": "display_data"
    }
   ],
   "source": [
    "from sklearn.metrics import ConfusionMatrixDisplay, RocCurveDisplay\n",
    "\n",
    "y_pred = classifier_model.predict(x_test)\n",
    "# print(type(y_pred), y_pred)\n",
    "y_pred_discrete = [0 if y <= 0.5 else 1 for y in y_pred]\n",
    "ConfusionMatrixDisplay.from_predictions(y_test, y_pred_discrete)\n",
    "plt.show()"
   ]
  },
  {
   "cell_type": "code",
   "execution_count": 58,
   "metadata": {},
   "outputs": [
    {
     "data": {
      "image/png": "[encoded data removed]",
      "text/plain": [
       "<Figure size 432x288 with 1 Axes>"
      ]
     },
     "metadata": {
      "needs_background": "light"
     },
     "output_type": "display_data"
    }
   ],
   "source": [
    "RocCurveDisplay.from_predictions(y_test, y_pred)\n",
    "plt.show()"
   ]
  },
  {
   "cell_type": "code",
   "execution_count": 59,
   "metadata": {
    "execution": {
     "iopub.status.busy": "2022-01-31T04:57:29.383861Z",
     "iopub.status.idle": "2022-01-31T04:57:29.384418Z",
     "shell.execute_reply": "2022-01-31T04:57:29.384204Z",
     "shell.execute_reply.started": "2022-01-31T04:57:29.384179Z"
    },
    "id": "YCJwLZLauETe"
   },
   "outputs": [],
   "source": [
    "classifier_model.save_weights(\"Weights.hdf5\", overwrite=True)\n"
   ]
  },
  {
   "cell_type": "code",
   "execution_count": 60,
   "metadata": {
    "execution": {
     "iopub.status.busy": "2022-01-31T04:57:29.385488Z",
     "iopub.status.idle": "2022-01-31T04:57:29.386041Z",
     "shell.execute_reply": "2022-01-31T04:57:29.385836Z",
     "shell.execute_reply.started": "2022-01-31T04:57:29.38581Z"
    },
    "id": "Rrnlqd-SKmJB"
   },
   "outputs": [
    {
     "name": "stderr",
     "output_type": "stream",
     "text": [
      "WARNING:absl:Found untraced functions such as restored_function_body, restored_function_body, restored_function_body, restored_function_body, restored_function_body while saving (showing 5 of 310). These functions will not be directly callable after loading.\n"
     ]
    }
   ],
   "source": [
    "classifier_model.save('Bert_Model', overwrite=True,\n",
    "                      include_optimizer=True, save_format='tf')\n"
   ]
  },
  {
   "cell_type": "code",
   "execution_count": 61,
   "metadata": {
    "execution": {
     "iopub.status.busy": "2022-01-31T04:57:29.387098Z",
     "iopub.status.idle": "2022-01-31T04:57:29.387644Z",
     "shell.execute_reply": "2022-01-31T04:57:29.387443Z",
     "shell.execute_reply.started": "2022-01-31T04:57:29.387417Z"
    },
    "id": "RIjDhl1NalIK"
   },
   "outputs": [
    {
     "name": "stdout",
     "output_type": "stream",
     "text": [
      "/usr/bin/sh: 1: zip: not found\r\n"
     ]
    }
   ],
   "source": [
    "!zip -r ./Bert_Model.zip ./Bert_Model\n"
   ]
  },
  {
   "cell_type": "code",
   "execution_count": null,
   "metadata": {},
   "outputs": [],
   "source": []
  }
 ],
 "metadata": {
  "kernelspec": {
   "display_name": "Python 3",
   "language": "python",
   "name": "python3"
  },
  "language_info": {
   "codemirror_mode": {
    "name": "ipython",
    "version": 3
   },
   "file_extension": ".py",
   "mimetype": "text/x-python",
   "name": "python",
   "nbconvert_exporter": "python",
   "pygments_lexer": "ipython3",
   "version": "3.8.10"
  }
 },
 "nbformat": 4,
 "nbformat_minor": 4
}
